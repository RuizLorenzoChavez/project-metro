{
 "cells": [
  {
   "cell_type": "code",
   "execution_count": 31,
   "metadata": {},
   "outputs": [],
   "source": [
    "from openpyxl import load_workbook\n",
    "import pandas as pd\n",
    "import os"
   ]
  },
  {
   "cell_type": "code",
   "execution_count": 32,
   "metadata": {},
   "outputs": [],
   "source": [
    "def extract_ridership(col_lst) -> dict:\n",
    "    \"\"\" Extracts the ridership values from a list of list and puts it in a dictionary.\n",
    "        This function already partially cleans the data by removing values that are not integers (i.e, str and None types)\n",
    "\n",
    "    Args:\n",
    "        col_lst (list): This is a list of list that contains ridership values for each station—grouped by columns.\n",
    "\n",
    "    Returns:\n",
    "        dict: This a dictionary containing the ridership numbers as its values and the station names as its keys\n",
    "    \"\"\"\n",
    "    \n",
    "    station_riders_dict = {}\n",
    "    \n",
    "    for col in col_lst:\n",
    "        \n",
    "        value_list = []\n",
    "        str_list = []\n",
    "        \n",
    "        for cell in col:\n",
    "            if isinstance(cell, int):\n",
    "                value_list.append(cell)\n",
    "            \n",
    "            if isinstance(cell, str):\n",
    "                str_list.append(cell)   \n",
    "        \n",
    "        station_name = str_list[0]\n",
    "        \n",
    "        station_riders_dict[station_name] = value_list\n",
    "    \n",
    "    return station_riders_dict"
   ]
  },
  {
   "cell_type": "code",
   "execution_count": 33,
   "metadata": {},
   "outputs": [],
   "source": [
    "def extract_hours(row_lst) -> list:\n",
    "    \"\"\" Extracts the hour values from a list of list and puts it in a list.\n",
    "        This function only extracts the hour values that have ridership values associated with it.\n",
    "\n",
    "    Args:\n",
    "        row_list (list): This is a list of list that contains values for all stations—grouped by rows.\n",
    "\n",
    "    Returns:\n",
    "        list: This a list containing the hours that have values associated with it (i.e., non-empty entries)\n",
    "    \"\"\"\n",
    "    \n",
    "    hours_list = []\n",
    "    \n",
    "    for row in row_lst:\n",
    "        if isinstance(row[5], int):\n",
    "            hours_list.append(row[0])\n",
    "    \n",
    "    return hours_list"
   ]
  },
  {
   "cell_type": "code",
   "execution_count": 34,
   "metadata": {},
   "outputs": [],
   "source": [
    "def generate_date(row_lst, excel_file) -> list:\n",
    "    \"\"\"Generates date associated with the entries from the table.\n",
    "       The assumption of this function is that if the cell contains the string, \"Entry\",\n",
    "       then it means that following set of values belong to a new day/date.\n",
    "        \n",
    "    Args:\n",
    "        row_lst (list): This is a list of list that contains values for all stations—grouped by rows.\n",
    "\n",
    "    Returns:\n",
    "        list: This is a list containing the dates that have values associated with it (i.e., non-empty entries)\n",
    "    \"\"\"\n",
    "    \n",
    "    dates_list = []\n",
    "    day = 0\n",
    "    year_month = excel_file.split(\".\")[0]\n",
    "    \n",
    "    for row in row_lst:\n",
    "        if row[1] == \"Entry\":\n",
    "            day += 1\n",
    "        \n",
    "        if isinstance(row[1], int):\n",
    "            dates_list.append(f\"{year_month}-{day}\")\n",
    "        \n",
    "    return dates_list"
   ]
  },
  {
   "cell_type": "code",
   "execution_count": null,
   "metadata": {},
   "outputs": [],
   "source": [
    "def troubleshoot():\n",
    "    return None"
   ]
  },
  {
   "cell_type": "code",
   "execution_count": 55,
   "metadata": {},
   "outputs": [],
   "source": [
    "#  list of all available excel files from \"data\" folder\n",
    "excel_file_list = os.listdir(\"data\")\n",
    "\n",
    "hours_list = []\n",
    "dates_list = []\n",
    "\n",
    "for excel_file in excel_file_list:\n",
    "    \n",
    "    try:\n",
    "        daily = load_workbook(filename=f\"data/{excel_file}\")[\"Daily\"]\n",
    "        \n",
    "        daily_total_row = daily.max_row\n",
    "        \n",
    "        daily_col_range = daily.iter_cols(min_col=2, max_col=27, min_row=1, max_row=daily_total_row, values_only=True)\n",
    "        daily_row_range = daily.iter_rows(min_row=1, max_row=daily_total_row, min_col=1, max_col=27, values_only=True)\n",
    "        \n",
    "        daily_cols = [col for col in daily_col_range]\n",
    "        daily_rows = [row for row in daily_row_range]\n",
    "        \n",
    "        for hour in extract_hours(daily_rows):\n",
    "            hours_list.append(hour)\n",
    "        \n",
    "        for date in generate_date(daily_rows, excel_file):\n",
    "            dates_list.append(date)\n",
    "    except ValueError:\n",
    "        pass\n",
    "    \n",
    "    "
   ]
  },
  {
   "cell_type": "code",
   "execution_count": 57,
   "metadata": {},
   "outputs": [
    {
     "name": "stdout",
     "output_type": "stream",
     "text": [
      "26585\n",
      "26578\n",
      "7\n"
     ]
    }
   ],
   "source": [
    "print(len(hours_list))\n",
    "print(len(dates_list))\n",
    "print(len(hours_list)-len(dates_list))"
   ]
  },
  {
   "cell_type": "code",
   "execution_count": null,
   "metadata": {},
   "outputs": [],
   "source": []
  }
 ],
 "metadata": {
  "kernelspec": {
   "display_name": "dataenv",
   "language": "python",
   "name": "python3"
  },
  "language_info": {
   "codemirror_mode": {
    "name": "ipython",
    "version": 3
   },
   "file_extension": ".py",
   "mimetype": "text/x-python",
   "name": "python",
   "nbconvert_exporter": "python",
   "pygments_lexer": "ipython3",
   "version": "3.9.13"
  },
  "orig_nbformat": 4
 },
 "nbformat": 4,
 "nbformat_minor": 2
}
